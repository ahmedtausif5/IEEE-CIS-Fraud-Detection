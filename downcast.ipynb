{
 "cells": [
  {
   "cell_type": "code",
   "execution_count": 33,
   "id": "7f3261fc",
   "metadata": {},
   "outputs": [],
   "source": [
    "\"\"\"\n",
    "The purpose of this notebook is to downcast the datatypes of the numerical columns in the dataset, \n",
    "so that we can save memory while working with the dataset later.\n",
    "\n",
    "The whole work of fraud detection is done in another notebook called 'fraud_detection.ipynb',\n",
    "which uses the downcasted dataset.\n",
    "\"\"\";"
   ]
  },
  {
   "cell_type": "code",
   "execution_count": 3,
   "id": "14ad486a",
   "metadata": {},
   "outputs": [],
   "source": [
    "import pandas as pd\n",
    "import numpy as np"
   ]
  },
  {
   "cell_type": "code",
   "execution_count": 4,
   "id": "618208be",
   "metadata": {},
   "outputs": [
    {
     "name": "stdout",
     "output_type": "stream",
     "text": [
      "C:\\Users\\ahmed\\Desktop\\IEEE-CIS Fraud Detection/data\n"
     ]
    }
   ],
   "source": [
    "from os import listdir\n",
    "from os.path import isfile, join\n",
    "\n",
    "loc = os.path.abspath(\"\")\n",
    "data_loc = f\"{loc}/data\"\n",
    "print(data_loc)"
   ]
  },
  {
   "cell_type": "code",
   "execution_count": 5,
   "id": "a121d46a",
   "metadata": {},
   "outputs": [
    {
     "name": "stdout",
     "output_type": "stream",
     "text": [
      "Wall time: 27.2 s\n"
     ]
    }
   ],
   "source": [
    "%%time\n",
    "train_id_before = pd.read_csv(f\"{data_loc}/train_identity.csv\")\n",
    "train_tr_before = pd.read_csv(f\"{data_loc}/train_transaction.csv\")\n",
    "test_id_before = pd.read_csv(f\"{data_loc}/test_identity.csv\")\n",
    "test_tr_before = pd.read_csv(f\"{data_loc}/test_transaction.csv\")"
   ]
  },
  {
   "cell_type": "code",
   "execution_count": 6,
   "id": "cda6e03a",
   "metadata": {},
   "outputs": [
    {
     "name": "stdout",
     "output_type": "stream",
     "text": [
      "<class 'pandas.core.frame.DataFrame'>\n",
      "RangeIndex: 144233 entries, 0 to 144232\n",
      "Data columns (total 41 columns):\n",
      " #   Column         Non-Null Count   Dtype  \n",
      "---  ------         --------------   -----  \n",
      " 0   TransactionID  144233 non-null  int64  \n",
      " 1   id_01          144233 non-null  float64\n",
      " 2   id_02          140872 non-null  float64\n",
      " 3   id_03          66324 non-null   float64\n",
      " 4   id_04          66324 non-null   float64\n",
      " 5   id_05          136865 non-null  float64\n",
      " 6   id_06          136865 non-null  float64\n",
      " 7   id_07          5155 non-null    float64\n",
      " 8   id_08          5155 non-null    float64\n",
      " 9   id_09          74926 non-null   float64\n",
      " 10  id_10          74926 non-null   float64\n",
      " 11  id_11          140978 non-null  float64\n",
      " 12  id_12          144233 non-null  object \n",
      " 13  id_13          127320 non-null  float64\n",
      " 14  id_14          80044 non-null   float64\n",
      " 15  id_15          140985 non-null  object \n",
      " 16  id_16          129340 non-null  object \n",
      " 17  id_17          139369 non-null  float64\n",
      " 18  id_18          45113 non-null   float64\n",
      " 19  id_19          139318 non-null  float64\n",
      " 20  id_20          139261 non-null  float64\n",
      " 21  id_21          5159 non-null    float64\n",
      " 22  id_22          5169 non-null    float64\n",
      " 23  id_23          5169 non-null    object \n",
      " 24  id_24          4747 non-null    float64\n",
      " 25  id_25          5132 non-null    float64\n",
      " 26  id_26          5163 non-null    float64\n",
      " 27  id_27          5169 non-null    object \n",
      " 28  id_28          140978 non-null  object \n",
      " 29  id_29          140978 non-null  object \n",
      " 30  id_30          77565 non-null   object \n",
      " 31  id_31          140282 non-null  object \n",
      " 32  id_32          77586 non-null   float64\n",
      " 33  id_33          73289 non-null   object \n",
      " 34  id_34          77805 non-null   object \n",
      " 35  id_35          140985 non-null  object \n",
      " 36  id_36          140985 non-null  object \n",
      " 37  id_37          140985 non-null  object \n",
      " 38  id_38          140985 non-null  object \n",
      " 39  DeviceType     140810 non-null  object \n",
      " 40  DeviceInfo     118666 non-null  object \n",
      "dtypes: float64(23), int64(1), object(17)\n",
      "memory usage: 45.1+ MB\n",
      "None\n",
      "<class 'pandas.core.frame.DataFrame'>\n",
      "RangeIndex: 590540 entries, 0 to 590539\n",
      "Columns: 394 entries, TransactionID to V339\n",
      "dtypes: float64(376), int64(4), object(14)\n",
      "memory usage: 1.7+ GB\n",
      "None\n"
     ]
    }
   ],
   "source": [
    "print(train_id_before.info())\n",
    "print(train_tr_before.info())"
   ]
  },
  {
   "cell_type": "code",
   "execution_count": 35,
   "id": "16d6d200",
   "metadata": {},
   "outputs": [],
   "source": [
    "\"\"\"\n",
    "Loading the dataset consumes 1.7+GB of memory in our system. Therefore something must be\n",
    "done to reduce the memory consumed. It can be seen that all the numerical columns are of\n",
    "the float64 or int64 datatypes. So, we can downcast these datatypes to 32 bit or 16 bit.\n",
    "In order to choose which datatype to convert to, we have to check the maximum values in\n",
    "each dataframes. \n",
    "\n",
    "If the max_value > 2.1B, we cannot downcast the datatypes. It should remain at 64 bit.\n",
    "\n",
    "If the 2.1B > max_value > 65K , we have to downcast the numerical datatypes to 32 bit.\n",
    "\n",
    "If the 65K > max_value > 255 , we have to downcast the numerical datatypes to 16 bit.\n",
    "\n",
    "\"\"\";"
   ]
  },
  {
   "cell_type": "markdown",
   "id": "c5813811",
   "metadata": {},
   "source": [
    "Checking maximum values in each dataframe:"
   ]
  },
  {
   "cell_type": "code",
   "execution_count": 25,
   "id": "8d400191",
   "metadata": {},
   "outputs": [
    {
     "name": "stdout",
     "output_type": "stream",
     "text": [
      "TransactionID    3577534.0\n",
      "id_01                  0.0\n",
      "id_02             999595.0\n",
      "id_03                 10.0\n",
      "id_04                  0.0\n",
      "id_05                 52.0\n",
      "id_06                  0.0\n",
      "id_07                 61.0\n",
      "id_08                  0.0\n",
      "id_09                 25.0\n",
      "id_10                  0.0\n",
      "id_11                100.0\n",
      "id_13                 64.0\n",
      "id_14                720.0\n",
      "id_17                229.0\n",
      "id_18                 29.0\n",
      "id_19                671.0\n",
      "id_20                661.0\n",
      "id_21                854.0\n",
      "id_22                 44.0\n",
      "id_24                 26.0\n",
      "id_25                548.0\n",
      "id_26                216.0\n",
      "id_32                 32.0\n",
      "dtype: float64\n",
      "_______________________________________\n",
      "<class 'pandas.core.series.Series'>\n",
      "_______________________________________\n",
      "3577534.0\n"
     ]
    }
   ],
   "source": [
    "x = train_id_before.select_dtypes(include=[np.number]).max()\n",
    "print(x)\n",
    "print('_______________________________________')\n",
    "print(type(x))\n",
    "print('_______________________________________')\n",
    "print(max(x))"
   ]
  },
  {
   "cell_type": "code",
   "execution_count": 26,
   "id": "e4281ba9",
   "metadata": {},
   "outputs": [
    {
     "name": "stdout",
     "output_type": "stream",
     "text": [
      "3577534.0\n",
      "15811131.0\n",
      "4170239.0\n",
      "34214345.0\n"
     ]
    }
   ],
   "source": [
    "print(max(train_id_before.select_dtypes(include=[np.number]).max()))\n",
    "print(max(train_tr_before.select_dtypes(include=[np.number]).max()))\n",
    "print(max(test_id_before.select_dtypes(include=[np.number]).max()))\n",
    "print(max(test_tr_before.select_dtypes(include=[np.number]).max()))"
   ]
  },
  {
   "cell_type": "markdown",
   "id": "64f077a8",
   "metadata": {},
   "source": [
    "Maximum value is 34 million. Hence, we can downcast the numerical values to 32 bit. 32-bit signed binary integer can store a positive numerical value upto 2 billion."
   ]
  },
  {
   "cell_type": "code",
   "execution_count": 27,
   "id": "11ea5552",
   "metadata": {},
   "outputs": [],
   "source": [
    "# Function for downcasting the datatypes to reduce memory usage:\n",
    "def downcast_dtypes(df):\n",
    "    _start = df.memory_usage(deep=True).sum() / 1024 **2\n",
    "    \n",
    "    float_cols = [c for c in df if df[c].dtype == \"float64\"]\n",
    "    int_cols = [c for c in df if df[c].dtype in [\"int64\"]]\n",
    "    \n",
    "    df[float_cols] = df[float_cols].astype(np.float32)\n",
    "    df[int_cols] = df[int_cols].astype(np.int32)\n",
    "    \n",
    "    _end = df.memory_usage(deep=True).sum() / 1024 **2\n",
    "    \n",
    "    saved = (_start - _end) / _start *100\n",
    "    \n",
    "    print(f\"Saved {saved:.2f}%\")\n",
    "    \n",
    "    return df"
   ]
  },
  {
   "cell_type": "code",
   "execution_count": 28,
   "id": "6f0d06da",
   "metadata": {},
   "outputs": [
    {
     "name": "stdout",
     "output_type": "stream",
     "text": [
      "Saved 8.38%\n",
      "Saved 40.75%\n",
      "Saved 8.43%\n",
      "Saved 40.52%\n"
     ]
    }
   ],
   "source": [
    "train_id = downcast_dtypes(train_id_before)\n",
    "train_tr = downcast_dtypes(train_tr_before)\n",
    "test_id = downcast_dtypes(test_id_before)\n",
    "test_tr= downcast_dtypes(test_tr_before)"
   ]
  },
  {
   "cell_type": "code",
   "execution_count": 34,
   "id": "81d47da5",
   "metadata": {},
   "outputs": [
    {
     "name": "stdout",
     "output_type": "stream",
     "text": [
      "<class 'pandas.core.frame.DataFrame'>\n",
      "RangeIndex: 144233 entries, 0 to 144232\n",
      "Data columns (total 41 columns):\n",
      " #   Column         Non-Null Count   Dtype  \n",
      "---  ------         --------------   -----  \n",
      " 0   TransactionID  144233 non-null  int32  \n",
      " 1   id_01          144233 non-null  float32\n",
      " 2   id_02          140872 non-null  float32\n",
      " 3   id_03          66324 non-null   float32\n",
      " 4   id_04          66324 non-null   float32\n",
      " 5   id_05          136865 non-null  float32\n",
      " 6   id_06          136865 non-null  float32\n",
      " 7   id_07          5155 non-null    float32\n",
      " 8   id_08          5155 non-null    float32\n",
      " 9   id_09          74926 non-null   float32\n",
      " 10  id_10          74926 non-null   float32\n",
      " 11  id_11          140978 non-null  float32\n",
      " 12  id_12          144233 non-null  object \n",
      " 13  id_13          127320 non-null  float32\n",
      " 14  id_14          80044 non-null   float32\n",
      " 15  id_15          140985 non-null  object \n",
      " 16  id_16          129340 non-null  object \n",
      " 17  id_17          139369 non-null  float32\n",
      " 18  id_18          45113 non-null   float32\n",
      " 19  id_19          139318 non-null  float32\n",
      " 20  id_20          139261 non-null  float32\n",
      " 21  id_21          5159 non-null    float32\n",
      " 22  id_22          5169 non-null    float32\n",
      " 23  id_23          5169 non-null    object \n",
      " 24  id_24          4747 non-null    float32\n",
      " 25  id_25          5132 non-null    float32\n",
      " 26  id_26          5163 non-null    float32\n",
      " 27  id_27          5169 non-null    object \n",
      " 28  id_28          140978 non-null  object \n",
      " 29  id_29          140978 non-null  object \n",
      " 30  id_30          77565 non-null   object \n",
      " 31  id_31          140282 non-null  object \n",
      " 32  id_32          77586 non-null   float32\n",
      " 33  id_33          73289 non-null   object \n",
      " 34  id_34          77805 non-null   object \n",
      " 35  id_35          140985 non-null  object \n",
      " 36  id_36          140985 non-null  object \n",
      " 37  id_37          140985 non-null  object \n",
      " 38  id_38          140985 non-null  object \n",
      " 39  DeviceType     140810 non-null  object \n",
      " 40  DeviceInfo     118666 non-null  object \n",
      "dtypes: float32(23), int32(1), object(17)\n",
      "memory usage: 31.9+ MB\n",
      "None\n",
      "<class 'pandas.core.frame.DataFrame'>\n",
      "RangeIndex: 590540 entries, 0 to 590539\n",
      "Columns: 394 entries, TransactionID to V339\n",
      "dtypes: float32(376), int32(4), object(14)\n",
      "memory usage: 919.1+ MB\n",
      "None\n"
     ]
    }
   ],
   "source": [
    "print(train_id.info())\n",
    "print(train_tr.info())"
   ]
  },
  {
   "cell_type": "code",
   "execution_count": null,
   "id": "9cafbc68",
   "metadata": {},
   "outputs": [],
   "source": [
    "\"\"\"\n",
    "It can now be seen that the memory consumed by the two dataframes is reduced to 919 MB. Now,\n",
    "we would save the dataframes in our local drive.\n",
    "\"\"\""
   ]
  },
  {
   "cell_type": "markdown",
   "id": "a494d24f",
   "metadata": {},
   "source": [
    "Saving the downcasted dataset in our local drive."
   ]
  },
  {
   "cell_type": "code",
   "execution_count": 37,
   "id": "98cad849",
   "metadata": {},
   "outputs": [],
   "source": [
    "train_id.to_parquet(f\"{data_loc}/train_identity.parquet.gzip\", compression = 'gzip')\n",
    "train_tr.to_parquet(f\"{data_loc}/train_transaction.parquet.gzip\", compression = 'gzip')\n",
    "test_id.to_parquet(f\"{data_loc}/test_identity.parquet.gzip\", compression = 'gzip')\n",
    "test_tr.to_parquet(f\"{data_loc}/test_transaction.parquet.gzip\", compression = 'gzip')"
   ]
  },
  {
   "cell_type": "markdown",
   "id": "22036e15",
   "metadata": {},
   "source": [
    "Loading the downcasted datasets to check if time taken to load is indeed reduced."
   ]
  },
  {
   "cell_type": "code",
   "execution_count": 38,
   "id": "34fb20ac",
   "metadata": {},
   "outputs": [
    {
     "name": "stdout",
     "output_type": "stream",
     "text": [
      "Wall time: 1.63 s\n"
     ]
    }
   ],
   "source": [
    "%%time\n",
    "train_id = pd.read_parquet(f\"{data_loc}/train_identity.parquet.gzip\")\n",
    "train_tr = pd.read_parquet(f\"{data_loc}/train_transaction.parquet.gzip\")\n",
    "test_id = pd.read_parquet(f\"{data_loc}/test_identity.parquet.gzip\")\n",
    "test_tr = pd.read_parquet(f\"{data_loc}/test_transaction.parquet.gzip\")"
   ]
  }
 ],
 "metadata": {
  "kernelspec": {
   "display_name": "Python 3",
   "language": "python",
   "name": "python3"
  },
  "language_info": {
   "codemirror_mode": {
    "name": "ipython",
    "version": 3
   },
   "file_extension": ".py",
   "mimetype": "text/x-python",
   "name": "python",
   "nbconvert_exporter": "python",
   "pygments_lexer": "ipython3",
   "version": "3.8.8"
  }
 },
 "nbformat": 4,
 "nbformat_minor": 5
}
