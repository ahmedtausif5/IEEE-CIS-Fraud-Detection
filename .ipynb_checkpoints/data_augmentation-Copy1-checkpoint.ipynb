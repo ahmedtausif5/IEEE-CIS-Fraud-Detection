{
 "cells": [
  {
   "cell_type": "code",
   "execution_count": 7,
   "id": "7d94a381",
   "metadata": {},
   "outputs": [],
   "source": [
    "\"\"\"\n",
    "The purpose of this notebook is to augment data to create more datapoints which would represent\n",
    "fraudulent transactions.\n",
    "\n",
    "The whole work of fraud detection is done in another notebook called 'fraud_detection.ipynb'\n",
    "\"\"\";"
   ]
  },
  {
   "cell_type": "code",
   "execution_count": 8,
   "id": "762ddc09",
   "metadata": {},
   "outputs": [],
   "source": [
    "import pandas as pd\n",
    "import numpy as np\n",
    "import os"
   ]
  },
  {
   "cell_type": "code",
   "execution_count": 9,
   "id": "6b1f6751",
   "metadata": {},
   "outputs": [
    {
     "name": "stdout",
     "output_type": "stream",
     "text": [
      "C:\\Users\\ahmed\\Desktop\\IEEE-CIS-Fraud-Detection/data\n"
     ]
    }
   ],
   "source": [
    "from os import listdir\n",
    "from os.path import isfile, join\n",
    "\n",
    "loc = os.path.abspath(\"\")\n",
    "data_loc = f\"{loc}/data\"\n",
    "print(data_loc)"
   ]
  },
  {
   "cell_type": "code",
   "execution_count": 10,
   "id": "9622120b",
   "metadata": {},
   "outputs": [
    {
     "name": "stdout",
     "output_type": "stream",
     "text": [
      "Wall time: 1.63 s\n"
     ]
    }
   ],
   "source": [
    "%%time\n",
    "train_identity   = pd.read_parquet(f\"{data_loc}/train_identity.parquet.gzip\")\n",
    "train_transaction   = pd.read_parquet(f\"{data_loc}/train_transaction.parquet.gzip\")\n",
    "test_identity   = pd.read_parquet(f\"{data_loc}/test_identity.parquet.gzip\")\n",
    "test_transaction   = pd.read_parquet(f\"{data_loc}/test_transaction.parquet.gzip\")"
   ]
  },
  {
   "cell_type": "markdown",
   "id": "4f0d7980",
   "metadata": {},
   "source": [
    "Checking the number of total transactions in both the 'identity' and 'transaction' in train data:"
   ]
  },
  {
   "cell_type": "code",
   "execution_count": 11,
   "id": "a41f6ff1",
   "metadata": {},
   "outputs": [
    {
     "name": "stdout",
     "output_type": "stream",
     "text": [
      "590540\n",
      "144233\n"
     ]
    }
   ],
   "source": [
    "print(train_transaction['TransactionID'].count())\n",
    "print(train_identity['TransactionID'].count())"
   ]
  },
  {
   "cell_type": "markdown",
   "id": "99da7f24",
   "metadata": {},
   "source": [
    "Merging the 'identity' and 'transaction' datasets together in one dataframe for both train and test data:"
   ]
  },
  {
   "cell_type": "code",
   "execution_count": 12,
   "id": "9adbe79f",
   "metadata": {},
   "outputs": [],
   "source": [
    "X_train = pd.merge(\n",
    "    train_transaction, train_identity, how='left', on='TransactionID'\n",
    ")\n",
    "\n",
    "X_test = pd.merge(\n",
    "    test_transaction, test_identity, how='left', on='TransactionID'  \n",
    ")"
   ]
  },
  {
   "cell_type": "code",
   "execution_count": 13,
   "id": "f84c4af6",
   "metadata": {},
   "outputs": [
    {
     "name": "stdout",
     "output_type": "stream",
     "text": [
      "Train shape: (590540, 434), Test shape: (506691, 433)\n"
     ]
    }
   ],
   "source": [
    "print(f'Train shape: {X_train.shape}, Test shape: {X_test.shape}')"
   ]
  },
  {
   "cell_type": "code",
   "execution_count": 14,
   "id": "4dc34acc",
   "metadata": {},
   "outputs": [
    {
     "data": {
      "text/plain": [
       "0    569877\n",
       "1     20663\n",
       "Name: isFraud, dtype: int64"
      ]
     },
     "execution_count": 14,
     "metadata": {},
     "output_type": "execute_result"
    }
   ],
   "source": [
    "X_train['isFraud'].value_counts()"
   ]
  },
  {
   "cell_type": "code",
   "execution_count": 15,
   "id": "cfca9d84",
   "metadata": {},
   "outputs": [],
   "source": [
    "\"\"\"\n",
    "Total fraudulent transactions  (20,663) in our dataset is very less compared to non-fraudulent\n",
    "transactions (569,877). Therefore, new datapoints must be created to represent more fraudulent transactions.\n",
    "\"\"\";"
   ]
  },
  {
   "cell_type": "code",
   "execution_count": 16,
   "id": "60790e3d",
   "metadata": {},
   "outputs": [],
   "source": [
    "\"\"\"\n",
    "EDA & Handling categorical data.\n",
    "\"\"\";"
   ]
  },
  {
   "cell_type": "code",
   "execution_count": 17,
   "id": "5196d678",
   "metadata": {},
   "outputs": [
    {
     "data": {
      "text/plain": [
       "TransactionID          0\n",
       "isFraud                0\n",
       "TransactionDT          0\n",
       "TransactionAmt         0\n",
       "ProductCD              0\n",
       "card1                  0\n",
       "card2               8933\n",
       "card3               1565\n",
       "card4               1577\n",
       "card5               4259\n",
       "card6               1571\n",
       "addr1              65706\n",
       "addr2              65706\n",
       "dist1             352271\n",
       "dist2             552913\n",
       "P_emaildomain      94456\n",
       "R_emaildomain     453249\n",
       "C1                     0\n",
       "C2                     0\n",
       "C3                     0\n",
       "C4                     0\n",
       "C5                     0\n",
       "C6                     0\n",
       "C7                     0\n",
       "C8                     0\n",
       "C9                     0\n",
       "C10                    0\n",
       "C11                    0\n",
       "C12                    0\n",
       "C13                    0\n",
       "C14                    0\n",
       "D1                  1269\n",
       "D2                280797\n",
       "D3                262878\n",
       "D4                168922\n",
       "D5                309841\n",
       "D6                517353\n",
       "D7                551623\n",
       "D8                515614\n",
       "D9                515614\n",
       "D10                76022\n",
       "D11               279287\n",
       "D12               525823\n",
       "D13               528588\n",
       "D14               528353\n",
       "D15                89113\n",
       "M1                271100\n",
       "M2                271100\n",
       "M3                271100\n",
       "M4                281444\n",
       "M5                350482\n",
       "M6                169360\n",
       "M7                346265\n",
       "M8                346252\n",
       "M9                346252\n",
       "V1                279287\n",
       "V2                279287\n",
       "V3                279287\n",
       "V4                279287\n",
       "V5                279287\n",
       "V6                279287\n",
       "V7                279287\n",
       "V8                279287\n",
       "V9                279287\n",
       "V10               279287\n",
       "V11               279287\n",
       "V12                76073\n",
       "V13                76073\n",
       "V14                76073\n",
       "V15                76073\n",
       "V16                76073\n",
       "V17                76073\n",
       "V18                76073\n",
       "V19                76073\n",
       "V20                76073\n",
       "V21                76073\n",
       "V22                76073\n",
       "V23                76073\n",
       "V24                76073\n",
       "V25                76073\n",
       "V26                76073\n",
       "V27                76073\n",
       "V28                76073\n",
       "V29                76073\n",
       "V30                76073\n",
       "V31                76073\n",
       "V32                76073\n",
       "V33                76073\n",
       "V34                76073\n",
       "V35               168969\n",
       "V36               168969\n",
       "V37               168969\n",
       "V38               168969\n",
       "V39               168969\n",
       "V40               168969\n",
       "V41               168969\n",
       "V42               168969\n",
       "V43               168969\n",
       "V44               168969\n",
       "V45               168969\n",
       "V46               168969\n",
       "V47               168969\n",
       "V48               168969\n",
       "V49               168969\n",
       "V50               168969\n",
       "V51               168969\n",
       "V52               168969\n",
       "V53                77096\n",
       "V54                77096\n",
       "V55                77096\n",
       "V56                77096\n",
       "V57                77096\n",
       "V58                77096\n",
       "V59                77096\n",
       "V60                77096\n",
       "V61                77096\n",
       "V62                77096\n",
       "V63                77096\n",
       "V64                77096\n",
       "V65                77096\n",
       "V66                77096\n",
       "V67                77096\n",
       "V68                77096\n",
       "V69                77096\n",
       "V70                77096\n",
       "V71                77096\n",
       "V72                77096\n",
       "V73                77096\n",
       "V74                77096\n",
       "V75                89164\n",
       "V76                89164\n",
       "V77                89164\n",
       "V78                89164\n",
       "V79                89164\n",
       "V80                89164\n",
       "V81                89164\n",
       "V82                89164\n",
       "V83                89164\n",
       "V84                89164\n",
       "V85                89164\n",
       "V86                89164\n",
       "V87                89164\n",
       "V88                89164\n",
       "V89                89164\n",
       "V90                89164\n",
       "V91                89164\n",
       "V92                89164\n",
       "V93                89164\n",
       "V94                89164\n",
       "V95                  314\n",
       "V96                  314\n",
       "V97                  314\n",
       "V98                  314\n",
       "V99                  314\n",
       "V100                 314\n",
       "V101                 314\n",
       "V102                 314\n",
       "V103                 314\n",
       "V104                 314\n",
       "V105                 314\n",
       "V106                 314\n",
       "V107                 314\n",
       "V108                 314\n",
       "V109                 314\n",
       "V110                 314\n",
       "V111                 314\n",
       "V112                 314\n",
       "V113                 314\n",
       "V114                 314\n",
       "V115                 314\n",
       "V116                 314\n",
       "V117                 314\n",
       "V118                 314\n",
       "V119                 314\n",
       "V120                 314\n",
       "V121                 314\n",
       "V122                 314\n",
       "V123                 314\n",
       "V124                 314\n",
       "V125                 314\n",
       "V126                 314\n",
       "V127                 314\n",
       "V128                 314\n",
       "V129                 314\n",
       "V130                 314\n",
       "V131                 314\n",
       "V132                 314\n",
       "V133                 314\n",
       "V134                 314\n",
       "V135                 314\n",
       "V136                 314\n",
       "V137                 314\n",
       "V138              508595\n",
       "V139              508595\n",
       "V140              508595\n",
       "V141              508595\n",
       "V142              508595\n",
       "V143              508589\n",
       "V144              508589\n",
       "V145              508589\n",
       "V146              508595\n",
       "V147              508595\n",
       "V148              508595\n",
       "V149              508595\n",
       "V150              508589\n",
       "V151              508589\n",
       "V152              508589\n",
       "V153              508595\n",
       "V154              508595\n",
       "V155              508595\n",
       "V156              508595\n",
       "V157              508595\n",
       "V158              508595\n",
       "V159              508589\n",
       "V160              508589\n",
       "V161              508595\n",
       "V162              508595\n",
       "V163              508595\n",
       "V164              508589\n",
       "V165              508589\n",
       "V166              508589\n",
       "V167              450909\n",
       "V168              450909\n",
       "V169              450721\n",
       "V170              450721\n",
       "V171              450721\n",
       "V172              450909\n",
       "V173              450909\n",
       "V174              450721\n",
       "V175              450721\n",
       "V176              450909\n",
       "V177              450909\n",
       "V178              450909\n",
       "V179              450909\n",
       "V180              450721\n",
       "V181              450909\n",
       "V182              450909\n",
       "V183              450909\n",
       "V184              450721\n",
       "V185              450721\n",
       "V186              450909\n",
       "V187              450909\n",
       "V188              450721\n",
       "V189              450721\n",
       "V190              450909\n",
       "V191              450909\n",
       "V192              450909\n",
       "V193              450909\n",
       "V194              450721\n",
       "V195              450721\n",
       "V196              450909\n",
       "V197              450721\n",
       "V198              450721\n",
       "V199              450909\n",
       "V200              450721\n",
       "V201              450721\n",
       "V202              450909\n",
       "V203              450909\n",
       "V204              450909\n",
       "V205              450909\n",
       "V206              450909\n",
       "V207              450909\n",
       "V208              450721\n",
       "V209              450721\n",
       "V210              450721\n",
       "V211              450909\n",
       "V212              450909\n",
       "V213              450909\n",
       "V214              450909\n",
       "V215              450909\n",
       "V216              450909\n",
       "V217              460110\n",
       "V218              460110\n",
       "V219              460110\n",
       "V220              449124\n",
       "V221              449124\n",
       "V222              449124\n",
       "V223              460110\n",
       "V224              460110\n",
       "V225              460110\n",
       "V226              460110\n",
       "V227              449124\n",
       "V228              460110\n",
       "V229              460110\n",
       "V230              460110\n",
       "V231              460110\n",
       "V232              460110\n",
       "V233              460110\n",
       "V234              449124\n",
       "V235              460110\n",
       "V236              460110\n",
       "V237              460110\n",
       "V238              449124\n",
       "V239              449124\n",
       "V240              460110\n",
       "V241              460110\n",
       "V242              460110\n",
       "V243              460110\n",
       "V244              460110\n",
       "V245              449124\n",
       "V246              460110\n",
       "V247              460110\n",
       "V248              460110\n",
       "V249              460110\n",
       "V250              449124\n",
       "V251              449124\n",
       "V252              460110\n",
       "V253              460110\n",
       "V254              460110\n",
       "V255              449124\n",
       "V256              449124\n",
       "V257              460110\n",
       "V258              460110\n",
       "V259              449124\n",
       "V260              460110\n",
       "V261              460110\n",
       "V262              460110\n",
       "V263              460110\n",
       "V264              460110\n",
       "V265              460110\n",
       "V266              460110\n",
       "V267              460110\n",
       "V268              460110\n",
       "V269              460110\n",
       "V270              449124\n",
       "V271              449124\n",
       "V272              449124\n",
       "V273              460110\n",
       "V274              460110\n",
       "V275              460110\n",
       "V276              460110\n",
       "V277              460110\n",
       "V278              460110\n",
       "V279                  12\n",
       "V280                  12\n",
       "V281                1269\n",
       "V282                1269\n",
       "V283                1269\n",
       "V284                  12\n",
       "V285                  12\n",
       "V286                  12\n",
       "V287                  12\n",
       "V288                1269\n",
       "V289                1269\n",
       "V290                  12\n",
       "V291                  12\n",
       "V292                  12\n",
       "V293                  12\n",
       "V294                  12\n",
       "V295                  12\n",
       "V296                1269\n",
       "V297                  12\n",
       "V298                  12\n",
       "V299                  12\n",
       "V300                1269\n",
       "V301                1269\n",
       "V302                  12\n",
       "V303                  12\n",
       "V304                  12\n",
       "V305                  12\n",
       "V306                  12\n",
       "V307                  12\n",
       "V308                  12\n",
       "V309                  12\n",
       "V310                  12\n",
       "V311                  12\n",
       "V312                  12\n",
       "V313                1269\n",
       "V314                1269\n",
       "V315                1269\n",
       "V316                  12\n",
       "V317                  12\n",
       "V318                  12\n",
       "V319                  12\n",
       "V320                  12\n",
       "V321                  12\n",
       "V322              508189\n",
       "V323              508189\n",
       "V324              508189\n",
       "V325              508189\n",
       "V326              508189\n",
       "V327              508189\n",
       "V328              508189\n",
       "V329              508189\n",
       "V330              508189\n",
       "V331              508189\n",
       "V332              508189\n",
       "V333              508189\n",
       "V334              508189\n",
       "V335              508189\n",
       "V336              508189\n",
       "V337              508189\n",
       "V338              508189\n",
       "V339              508189\n",
       "id_01             446307\n",
       "id_02             449668\n",
       "id_03             524216\n",
       "id_04             524216\n",
       "id_05             453675\n",
       "id_06             453675\n",
       "id_07             585385\n",
       "id_08             585385\n",
       "id_09             515614\n",
       "id_10             515614\n",
       "id_11             449562\n",
       "id_12             446307\n",
       "id_13             463220\n",
       "id_14             510496\n",
       "id_15             449555\n",
       "id_16             461200\n",
       "id_17             451171\n",
       "id_18             545427\n",
       "id_19             451222\n",
       "id_20             451279\n",
       "id_21             585381\n",
       "id_22             585371\n",
       "id_23             585371\n",
       "id_24             585793\n",
       "id_25             585408\n",
       "id_26             585377\n",
       "id_27             585371\n",
       "id_28             449562\n",
       "id_29             449562\n",
       "id_30             512975\n",
       "id_31             450258\n",
       "id_32             512954\n",
       "id_33             517251\n",
       "id_34             512735\n",
       "id_35             449555\n",
       "id_36             449555\n",
       "id_37             449555\n",
       "id_38             449555\n",
       "DeviceType        449730\n",
       "DeviceInfo        471874\n",
       "dtype: int64"
      ]
     },
     "execution_count": 17,
     "metadata": {},
     "output_type": "execute_result"
    }
   ],
   "source": [
    "pd.set_option('display.max_rows', None)\n",
    "X_train.isnull().sum()"
   ]
  },
  {
   "cell_type": "code",
   "execution_count": 18,
   "id": "1d7d4b1d",
   "metadata": {},
   "outputs": [],
   "source": [
    "pd.set_option('display.max_rows', 10)"
   ]
  },
  {
   "cell_type": "code",
   "execution_count": 19,
   "id": "0fa6bac9",
   "metadata": {},
   "outputs": [
    {
     "name": "stdout",
     "output_type": "stream",
     "text": [
      "(590540, 434)\n",
      "(506691, 433)\n"
     ]
    }
   ],
   "source": [
    "print(X_train.shape)\n",
    "print(X_test.shape)"
   ]
  },
  {
   "cell_type": "markdown",
   "id": "a60d094d",
   "metadata": {},
   "source": [
    "There are plenty of columns with large numbers of missing data. Here we are removing columns with >= 50% missing values."
   ]
  },
  {
   "cell_type": "code",
   "execution_count": 20,
   "id": "fd91a0d1",
   "metadata": {},
   "outputs": [
    {
     "data": {
      "text/plain": [
       "(590540, 202)"
      ]
     },
     "execution_count": 20,
     "metadata": {},
     "output_type": "execute_result"
    }
   ],
   "source": [
    "# remove columns with over 40% missing data points\n",
    "threshold = int(X_train.shape[0] * 0.4)\n",
    "cols_with_missing_values = [col for col in X_train.columns if X_train[col].isnull().sum() >= threshold]\n",
    "cols_with_missing_values\n",
    "X_train.drop(cols_with_missing_values, axis = 1, inplace = True)\n",
    "X_train.shape"
   ]
  },
  {
   "cell_type": "code",
   "execution_count": 21,
   "id": "f737c463",
   "metadata": {},
   "outputs": [],
   "source": [
    "# columns with id in test are represented by \"id-XX\", whereas in the train set they are \"id_XX\"\n",
    "# replace \"-\" with \"_\"\n",
    "X_test.columns = X_test.columns.str.replace(\"-\", \"_\")"
   ]
  },
  {
   "cell_type": "code",
   "execution_count": 22,
   "id": "3e8569ac",
   "metadata": {},
   "outputs": [
    {
     "data": {
      "text/plain": [
       "(506691, 201)"
      ]
     },
     "execution_count": 22,
     "metadata": {},
     "output_type": "execute_result"
    }
   ],
   "source": [
    "X_test.drop(cols_with_missing_values, axis = 1, inplace = True)\n",
    "X_test.shape"
   ]
  },
  {
   "cell_type": "code",
   "execution_count": 23,
   "id": "2226ce3b",
   "metadata": {},
   "outputs": [
    {
     "name": "stdout",
     "output_type": "stream",
     "text": [
      "(590540, 202)\n",
      "(506691, 201)\n"
     ]
    }
   ],
   "source": [
    "print(X_train.shape)\n",
    "print(X_test.shape)"
   ]
  },
  {
   "cell_type": "code",
   "execution_count": 24,
   "id": "cf481593",
   "metadata": {},
   "outputs": [
    {
     "data": {
      "text/plain": [
       "TransactionID      0\n",
       "isFraud            0\n",
       "TransactionDT      0\n",
       "TransactionAmt     0\n",
       "ProductCD          0\n",
       "                  ..\n",
       "V317              12\n",
       "V318              12\n",
       "V319              12\n",
       "V320              12\n",
       "V321              12\n",
       "Length: 202, dtype: int64"
      ]
     },
     "execution_count": 24,
     "metadata": {},
     "output_type": "execute_result"
    }
   ],
   "source": [
    "X_train.isnull().sum()"
   ]
  },
  {
   "cell_type": "code",
   "execution_count": 25,
   "id": "5d14ba69",
   "metadata": {},
   "outputs": [
    {
     "name": "stdout",
     "output_type": "stream",
     "text": [
      "<class 'pandas.core.frame.DataFrame'>\n",
      "Int64Index: 590540 entries, 0 to 590539\n",
      "Columns: 202 entries, TransactionID to V321\n",
      "dtypes: float32(193), int32(4), object(5)\n",
      "memory usage: 470.8+ MB\n"
     ]
    }
   ],
   "source": [
    "# EDA\n",
    "X_train.info()"
   ]
  },
  {
   "cell_type": "code",
   "execution_count": 26,
   "id": "db4bf249",
   "metadata": {},
   "outputs": [
    {
     "name": "stdout",
     "output_type": "stream",
     "text": [
      "(590540, 202)\n",
      "(506691, 201)\n"
     ]
    }
   ],
   "source": [
    "print(X_train.shape)\n",
    "print(X_test.shape)"
   ]
  },
  {
   "cell_type": "markdown",
   "id": "f90ce24b",
   "metadata": {},
   "source": [
    "There are 5 object types that we need to convert to numerical data."
   ]
  },
  {
   "cell_type": "code",
   "execution_count": 27,
   "id": "1af342a3",
   "metadata": {},
   "outputs": [
    {
     "data": {
      "text/plain": [
       "['ProductCD', 'card4', 'card6', 'P_emaildomain', 'M6']"
      ]
     },
     "execution_count": 27,
     "metadata": {},
     "output_type": "execute_result"
    }
   ],
   "source": [
    "categorical_cols = [col for col in X_train.columns if X_train[col].dtype == \"object\"]\n",
    "categorical_cols"
   ]
  },
  {
   "cell_type": "code",
   "execution_count": 28,
   "id": "ff58a01e",
   "metadata": {},
   "outputs": [
    {
     "name": "stdout",
     "output_type": "stream",
     "text": [
      "['W' 'H' 'C' 'S' 'R']\n",
      "['W' 'C' 'S' 'H' 'R']\n"
     ]
    }
   ],
   "source": [
    "print(X_train['ProductCD'].unique())\n",
    "print(X_test['ProductCD'].unique())"
   ]
  },
  {
   "cell_type": "code",
   "execution_count": 29,
   "id": "84556e51",
   "metadata": {},
   "outputs": [
    {
     "name": "stdout",
     "output_type": "stream",
     "text": [
      "['discover' 'mastercard' 'visa' 'american express' None]\n",
      "['visa' 'mastercard' 'american express' 'discover' None]\n"
     ]
    }
   ],
   "source": [
    "print(X_train['card4'].unique())\n",
    "print(X_test['card4'].unique())"
   ]
  },
  {
   "cell_type": "code",
   "execution_count": 30,
   "id": "8b9bc309",
   "metadata": {},
   "outputs": [
    {
     "name": "stdout",
     "output_type": "stream",
     "text": [
      "[None 'gmail.com' 'outlook.com' 'yahoo.com' 'mail.com' 'anonymous.com'\n",
      " 'hotmail.com' 'verizon.net' 'aol.com' 'me.com' 'comcast.net'\n",
      " 'optonline.net' 'cox.net' 'charter.net' 'rocketmail.com' 'prodigy.net.mx'\n",
      " 'embarqmail.com' 'icloud.com' 'live.com.mx' 'gmail' 'live.com' 'att.net'\n",
      " 'juno.com' 'ymail.com' 'sbcglobal.net' 'bellsouth.net' 'msn.com' 'q.com'\n",
      " 'yahoo.com.mx' 'centurylink.net' 'servicios-ta.com' 'earthlink.net'\n",
      " 'hotmail.es' 'cfl.rr.com' 'roadrunner.com' 'netzero.net' 'gmx.de'\n",
      " 'suddenlink.net' 'frontiernet.net' 'windstream.net' 'frontier.com'\n",
      " 'outlook.es' 'mac.com' 'netzero.com' 'aim.com' 'web.de' 'twc.com'\n",
      " 'cableone.net' 'yahoo.fr' 'yahoo.de' 'yahoo.es' 'sc.rr.com' 'ptd.net'\n",
      " 'live.fr' 'yahoo.co.uk' 'hotmail.fr' 'hotmail.de' 'hotmail.co.uk'\n",
      " 'protonmail.com' 'yahoo.co.jp']\n",
      "['gmail.com' 'aol.com' 'hotmail.com' None 'att.net' 'twc.com' 'yahoo.com'\n",
      " 'verizon.net' 'anonymous.com' 'msn.com' 'q.com' 'outlook.com'\n",
      " 'icloud.com' 'bellsouth.net' 'sbcglobal.net' 'web.de' 'live.com.mx'\n",
      " 'ymail.com' 'comcast.net' 'mail.com' 'cox.net' 'me.com' 'aim.com'\n",
      " 'charter.net' 'rocketmail.com' 'outlook.es' 'centurylink.net' 'live.com'\n",
      " 'yahoo.de' 'cfl.rr.com' 'mac.com' 'frontier.com' 'netzero.net'\n",
      " 'frontiernet.net' 'juno.com' 'windstream.net' 'yahoo.fr' 'netzero.com'\n",
      " 'optonline.net' 'yahoo.co.uk' 'cableone.net' 'roadrunner.com' 'sc.rr.com'\n",
      " 'earthlink.net' 'gmail' 'hotmail.de' 'yahoo.com.mx' 'suddenlink.net'\n",
      " 'yahoo.es' 'embarqmail.com' 'hotmail.es' 'ptd.net' 'hotmail.co.uk'\n",
      " 'protonmail.com' 'live.fr' 'prodigy.net.mx' 'yahoo.co.jp' 'hotmail.fr'\n",
      " 'gmx.de' 'servicios-ta.com' 'scranton.edu']\n"
     ]
    }
   ],
   "source": [
    "print(X_train['P_emaildomain'].unique())\n",
    "print(X_test['P_emaildomain'].unique())"
   ]
  },
  {
   "cell_type": "code",
   "execution_count": 31,
   "id": "aed7c3a1",
   "metadata": {},
   "outputs": [
    {
     "name": "stdout",
     "output_type": "stream",
     "text": [
      "[None 'gmail.com' 'outlook.com' 'yahoo.com' 'mail.com' 'anonymous.com'\n",
      " 'hotmail.com' 'verizon.net' 'aol.com' 'me.com' 'comcast.net'\n",
      " 'optonline.net' 'cox.net' 'charter.net' 'rocketmail.com' 'prodigy.net.mx'\n",
      " 'embarqmail.com' 'icloud.com' 'live.com.mx' 'gmail' 'live.com' 'att.net'\n",
      " 'juno.com' 'ymail.com' 'sbcglobal.net' 'bellsouth.net' 'msn.com' 'q.com'\n",
      " 'yahoo.com.mx' 'centurylink.net' 'servicios-ta.com' 'earthlink.net'\n",
      " 'hotmail.es' 'cfl.rr.com' 'roadrunner.com' 'netzero.net' 'gmx.de'\n",
      " 'suddenlink.net' 'frontiernet.net' 'windstream.net' 'frontier.com'\n",
      " 'outlook.es' 'mac.com' 'netzero.com' 'aim.com' 'web.de' 'twc.com'\n",
      " 'cableone.net' 'yahoo.fr' 'yahoo.de' 'yahoo.es' 'sc.rr.com' 'ptd.net'\n",
      " 'live.fr' 'yahoo.co.uk' 'hotmail.fr' 'hotmail.de' 'hotmail.co.uk'\n",
      " 'protonmail.com' 'yahoo.co.jp']\n",
      "['gmail.com' 'aol.com' 'hotmail.com' None 'att.net' 'twc.com' 'yahoo.com'\n",
      " 'verizon.net' 'anonymous.com' 'msn.com' 'q.com' 'outlook.com'\n",
      " 'icloud.com' 'bellsouth.net' 'sbcglobal.net' 'web.de' 'live.com.mx'\n",
      " 'ymail.com' 'comcast.net' 'mail.com' 'cox.net' 'me.com' 'aim.com'\n",
      " 'charter.net' 'rocketmail.com' 'outlook.es' 'centurylink.net' 'live.com'\n",
      " 'yahoo.de' 'cfl.rr.com' 'mac.com' 'frontier.com' 'netzero.net'\n",
      " 'frontiernet.net' 'juno.com' 'windstream.net' 'yahoo.fr' 'netzero.com'\n",
      " 'optonline.net' 'yahoo.co.uk' 'cableone.net' 'roadrunner.com' 'sc.rr.com'\n",
      " 'earthlink.net' 'gmail' 'hotmail.de' 'yahoo.com.mx' 'suddenlink.net'\n",
      " 'yahoo.es' 'embarqmail.com' 'hotmail.es' 'ptd.net' 'hotmail.co.uk'\n",
      " 'protonmail.com' 'live.fr' 'prodigy.net.mx' 'yahoo.co.jp' 'hotmail.fr'\n",
      " 'gmx.de' 'servicios-ta.com' 'scranton.edu']\n"
     ]
    }
   ],
   "source": [
    "print(X_train['P_emaildomain'].unique())\n",
    "print(X_test['P_emaildomain'].unique())"
   ]
  },
  {
   "cell_type": "code",
   "execution_count": 32,
   "id": "70ac5ea2",
   "metadata": {},
   "outputs": [
    {
     "name": "stdout",
     "output_type": "stream",
     "text": [
      "['T' 'F' None]\n",
      "['F' 'T' None]\n"
     ]
    }
   ],
   "source": [
    "print(X_train['M6'].unique())\n",
    "print(X_test['M6'].unique())"
   ]
  },
  {
   "cell_type": "code",
   "execution_count": 33,
   "id": "9a4d397f",
   "metadata": {},
   "outputs": [
    {
     "name": "stdout",
     "output_type": "stream",
     "text": [
      "debit              439938\n",
      "credit             148986\n",
      "debit or credit        30\n",
      "charge card            15\n",
      "Name: card6, dtype: int64\n"
     ]
    }
   ],
   "source": [
    "print(X_train['card6'].value_counts())"
   ]
  },
  {
   "cell_type": "code",
   "execution_count": 34,
   "id": "a7287c8e",
   "metadata": {},
   "outputs": [
    {
     "name": "stdout",
     "output_type": "stream",
     "text": [
      "(590540, 202)\n",
      "(590510, 202)\n"
     ]
    }
   ],
   "source": [
    "# test set does not contain \"debit or credit\" data points for the \"card6\" column\n",
    "# since there are only few of these, drop those rows from the train set\n",
    "print(X_train.shape)\n",
    "X_train.drop(X_train.loc[X_train['card6']=='debit or credit'].index, inplace=True)\n",
    "print(X_train.shape)"
   ]
  },
  {
   "cell_type": "markdown",
   "id": "b1308c62",
   "metadata": {},
   "source": [
    "Since there are many different datapoints for 'P_emaildomain' we will be LabelEncoding them and the rest of the categorical columns will be one-hot encoded."
   ]
  },
  {
   "cell_type": "code",
   "execution_count": 35,
   "id": "650998c4",
   "metadata": {},
   "outputs": [],
   "source": [
    "from sklearn.preprocessing import LabelEncoder\n",
    "enc = LabelEncoder()"
   ]
  },
  {
   "cell_type": "code",
   "execution_count": 36,
   "id": "d35e7502",
   "metadata": {},
   "outputs": [],
   "source": [
    "X_train['P_emaildomain'] = enc.fit_transform(X_train['P_emaildomain'])\n",
    "X_train['P_emaildomain'];\n",
    "\n",
    "X_test['P_emaildomain'] = enc.fit_transform(X_test['P_emaildomain'])\n",
    "X_test['P_emaildomain'];"
   ]
  },
  {
   "cell_type": "code",
   "execution_count": 37,
   "id": "f022a084",
   "metadata": {},
   "outputs": [
    {
     "data": {
      "text/plain": [
       "['ProductCD', 'card4', 'card6', 'M6']"
      ]
     },
     "execution_count": 37,
     "metadata": {},
     "output_type": "execute_result"
    }
   ],
   "source": [
    "categorical_cols.remove('P_emaildomain')\n",
    "categorical_cols"
   ]
  },
  {
   "cell_type": "code",
   "execution_count": 38,
   "id": "ea046d90",
   "metadata": {},
   "outputs": [],
   "source": [
    "X_train = pd.get_dummies(data=X_train, columns=categorical_cols)\n",
    "X_test = pd.get_dummies(data=X_test, columns=categorical_cols)"
   ]
  },
  {
   "cell_type": "code",
   "execution_count": 39,
   "id": "85bef4e3",
   "metadata": {},
   "outputs": [
    {
     "name": "stdout",
     "output_type": "stream",
     "text": [
      "(590510, 212)\n",
      "(506691, 211)\n"
     ]
    }
   ],
   "source": [
    "print(X_train.shape)\n",
    "print(X_test.shape)"
   ]
  },
  {
   "cell_type": "code",
   "execution_count": 40,
   "id": "7d319fa2",
   "metadata": {},
   "outputs": [],
   "source": [
    "# fill missing values with the mean\n",
    "X_train.fillna(value=X_train.mean(), inplace=True)\n",
    "X_test.fillna(value=X_test.mean(), inplace=True)"
   ]
  },
  {
   "cell_type": "code",
   "execution_count": 41,
   "id": "7f4f4822",
   "metadata": {},
   "outputs": [
    {
     "data": {
      "text/plain": [
       "TransactionID        0\n",
       "isFraud              0\n",
       "TransactionDT        0\n",
       "TransactionAmt       0\n",
       "card1                0\n",
       "                    ..\n",
       "card6_charge card    0\n",
       "card6_credit         0\n",
       "card6_debit          0\n",
       "M6_F                 0\n",
       "M6_T                 0\n",
       "Length: 212, dtype: int64"
      ]
     },
     "execution_count": 41,
     "metadata": {},
     "output_type": "execute_result"
    }
   ],
   "source": [
    "X_train.isnull().sum()"
   ]
  },
  {
   "cell_type": "code",
   "execution_count": 42,
   "id": "1a7a193a",
   "metadata": {},
   "outputs": [
    {
     "data": {
      "text/plain": [
       "TransactionID        0\n",
       "TransactionDT        0\n",
       "TransactionAmt       0\n",
       "card1                0\n",
       "card2                0\n",
       "                    ..\n",
       "card6_charge card    0\n",
       "card6_credit         0\n",
       "card6_debit          0\n",
       "M6_F                 0\n",
       "M6_T                 0\n",
       "Length: 211, dtype: int64"
      ]
     },
     "execution_count": 42,
     "metadata": {},
     "output_type": "execute_result"
    }
   ],
   "source": [
    "X_test.isnull().sum()"
   ]
  },
  {
   "cell_type": "code",
   "execution_count": 43,
   "id": "ee21a0b3",
   "metadata": {},
   "outputs": [],
   "source": [
    "# print(X_train.shape)\n",
    "# X_train = X_train.drop(X_train[X_train['isFraud'] == 0].sample(frac=.92).index)\n",
    "# print(X_train.shape)"
   ]
  },
  {
   "cell_type": "code",
   "execution_count": 44,
   "id": "95af82bc",
   "metadata": {},
   "outputs": [],
   "source": [
    "# END OF PREPROCESSING"
   ]
  },
  {
   "cell_type": "code",
   "execution_count": 45,
   "id": "22db299b",
   "metadata": {},
   "outputs": [],
   "source": [
    "X = X_train.drop('isFraud', axis=1).copy()"
   ]
  },
  {
   "cell_type": "code",
   "execution_count": 46,
   "id": "6b3257f6",
   "metadata": {},
   "outputs": [],
   "source": [
    "y = X_train['isFraud'].copy()"
   ]
  },
  {
   "cell_type": "code",
   "execution_count": 47,
   "id": "94dde07d",
   "metadata": {},
   "outputs": [],
   "source": [
    "# train test-split\n",
    "from sklearn.preprocessing import StandardScaler\n",
    "from sklearn.model_selection import train_test_split\n",
    "\n",
    "scaler = StandardScaler()\n",
    "X_train_scaled = scaler.fit_transform(X)\n",
    "X_test_scaled = scaler.fit_transform(X_test)\n",
    "x_train, x_val, y_train, y_val = train_test_split(X_train_scaled, y, test_size=0.25, random_state=42)"
   ]
  },
  {
   "cell_type": "code",
   "execution_count": 48,
   "id": "78d78524",
   "metadata": {},
   "outputs": [
    {
     "data": {
      "text/plain": [
       "Counter({0: 142419, 1: 5209})"
      ]
     },
     "execution_count": 48,
     "metadata": {},
     "output_type": "execute_result"
    }
   ],
   "source": [
    "from collections import Counter\n",
    "Counter(y_val)"
   ]
  },
  {
   "cell_type": "code",
   "execution_count": null,
   "id": "bebd72bd",
   "metadata": {},
   "outputs": [],
   "source": [
    "from collections import Counter\n",
    "from imblearn.under_sampling import NearMiss\n",
    "ns=NearMiss(version=1, n_neighbors=3)\n",
    "x_train_aug, y_train_aug = ns.fit_sample(x_train,y_train)\n",
    "print(\"The number of classes before fit {}\".format(Counter(y_train)))\n",
    "print(\"The number of classes after fit {}\".format(Counter(y_train_aug)))"
   ]
  },
  {
   "cell_type": "code",
   "execution_count": 50,
   "id": "018e65e3",
   "metadata": {},
   "outputs": [
    {
     "name": "stdout",
     "output_type": "stream",
     "text": [
      "The number of classes before fit Counter({0: 427428, 1: 15454})\n",
      "The number of classes after fit Counter({0: 427428, 1: 427428})\n"
     ]
    }
   ],
   "source": [
    "# from collections import Counter\n",
    "# from imblearn.over_sampling import SMOTE\n",
    "# oversample = SMOTE()\n",
    "# x_train_aug, y_train_aug = oversample.fit_resample(x_train, y_train)\n",
    "# print(\"The number of classes before fit {}\".format(Counter(y_train)))\n",
    "# print(\"The number of classes after fit {}\".format(Counter(y_train_aug)))"
   ]
  },
  {
   "cell_type": "code",
   "execution_count": 51,
   "id": "7f1af20a",
   "metadata": {},
   "outputs": [
    {
     "name": "stdout",
     "output_type": "stream",
     "text": [
      "RandomForest\n",
      "____________________________\n",
      "Accuracy: 0.9789809521229035\n",
      "Precision: 0.8228080931943593\n",
      "Recall: 0.5152620464580534\n",
      "F1 Score: 0.6336914177783024\n",
      "____________________________\n",
      "Confusion Matrix: \n",
      " [[141841    578]\n",
      " [  2525   2684]]\n",
      "____________________________\n",
      "False Positive Rate: 0.004058447257739517\n",
      "False Negative Rate: 0.4847379535419466\n",
      "____________________________\n",
      "AUC: 0.9218829942372015\n"
     ]
    },
    {
     "data": {
      "image/png": "[encoded data removed]",
      "text/plain": [
       "<Figure size 432x288 with 1 Axes>"
      ]
     },
     "metadata": {
      "needs_background": "light"
     },
     "output_type": "display_data"
    }
   ],
   "source": [
    "from sklearn.ensemble import RandomForestClassifier\n",
    "from sklearn import metrics\n",
    "from sklearn.metrics import recall_score\n",
    "from matplotlib import pyplot\n",
    "from sklearn.metrics import recall_score\n",
    "from sklearn.metrics import roc_curve\n",
    "from sklearn.metrics import roc_auc_score\n",
    "\n",
    "clf_rfc=RandomForestClassifier(n_estimators=93, random_state=143)\n",
    "clf_rfc.fit(x_train_aug,y_train_aug)\n",
    "y_pred=clf_rfc.predict(x_val)\n",
    "\n",
    "print(\"RandomForest\")\n",
    "print(\"____________________________\")\n",
    "print(\"Accuracy:\",metrics.accuracy_score(y_val, y_pred))\n",
    "print(\"Precision:\",metrics.precision_score(y_val, y_pred))\n",
    "print(\"Recall:\",metrics.recall_score(y_val, y_pred))\n",
    "print(\"F1 Score:\",metrics.f1_score(y_val, y_pred))\n",
    "print(\"____________________________\")\n",
    "print(\"Confusion Matrix: \\n\", metrics.confusion_matrix(y_val, y_pred))\n",
    "\n",
    "tpr = recall_score(y_val, y_pred) \n",
    "tnr = recall_score(y_val, y_pred, pos_label = 0) \n",
    "fpr = 1 - tnr\n",
    "fnr = 1 - tpr\n",
    "print(\"____________________________\")\n",
    "print(\"False Positive Rate:\",fpr)\n",
    "print(\"False Negative Rate:\",fnr)\n",
    "\n",
    "y_pred_prob = clf_rfc.predict_proba(x_val)[:,1]\n",
    "\n",
    "# Compute and print AUC score\n",
    "print(\"____________________________\")\n",
    "print(\"AUC: {}\".format(roc_auc_score(y_val, y_pred_prob)))\n",
    "\n",
    "# Compute cross-validated AUC scores: cv_auc\n",
    "#cv_auc = cross_val_score(logreg, X, y, cv=5, scoring='roc_auc')\n",
    "\n",
    "# Print list of AUC scores\n",
    "#print(\"AUC scores computed using 5-fold cross-validation: {}\".format(cv_auc))\n",
    "\n",
    "# Generate ROC curve values: fpr, tpr, thresholds\n",
    "fpr, tpr, thresholds = roc_curve(y_val, y_pred_prob)\n",
    "\n",
    "# Plot ROC curve\n",
    "pyplot.plot([0, 1], [0, 1], 'k--')\n",
    "pyplot.plot(fpr, tpr)\n",
    "pyplot.xlabel('False Positive Rate')\n",
    "pyplot.ylabel('True Positive Rate')\n",
    "pyplot.title('ROC Curve')\n",
    "pyplot.show()"
   ]
  },
  {
   "cell_type": "code",
   "execution_count": 52,
   "id": "a8a259b1",
   "metadata": {},
   "outputs": [],
   "source": [
    "y_pred_prob = clf_rfc.predict_proba(X_test_scaled)[:,1]"
   ]
  },
  {
   "cell_type": "code",
   "execution_count": 53,
   "id": "9e2b06d7",
   "metadata": {},
   "outputs": [
    {
     "data": {
      "text/html": [
       "<div>\n",
       "<style scoped>\n",
       "    .dataframe tbody tr th:only-of-type {\n",
       "        vertical-align: middle;\n",
       "    }\n",
       "\n",
       "    .dataframe tbody tr th {\n",
       "        vertical-align: top;\n",
       "    }\n",
       "\n",
       "    .dataframe thead th {\n",
       "        text-align: right;\n",
       "    }\n",
       "</style>\n",
       "<table border=\"1\" class=\"dataframe\">\n",
       "  <thead>\n",
       "    <tr style=\"text-align: right;\">\n",
       "      <th></th>\n",
       "      <th>TransactionID</th>\n",
       "      <th>isFraud</th>\n",
       "    </tr>\n",
       "  </thead>\n",
       "  <tbody>\n",
       "    <tr>\n",
       "      <th>0</th>\n",
       "      <td>3663549</td>\n",
       "      <td>0.784946</td>\n",
       "    </tr>\n",
       "    <tr>\n",
       "      <th>1</th>\n",
       "      <td>3663550</td>\n",
       "      <td>0.763441</td>\n",
       "    </tr>\n",
       "    <tr>\n",
       "      <th>2</th>\n",
       "      <td>3663551</td>\n",
       "      <td>0.784946</td>\n",
       "    </tr>\n",
       "    <tr>\n",
       "      <th>3</th>\n",
       "      <td>3663552</td>\n",
       "      <td>0.774194</td>\n",
       "    </tr>\n",
       "    <tr>\n",
       "      <th>4</th>\n",
       "      <td>3663553</td>\n",
       "      <td>0.591398</td>\n",
       "    </tr>\n",
       "    <tr>\n",
       "      <th>...</th>\n",
       "      <td>...</td>\n",
       "      <td>...</td>\n",
       "    </tr>\n",
       "    <tr>\n",
       "      <th>506686</th>\n",
       "      <td>4170235</td>\n",
       "      <td>0.763441</td>\n",
       "    </tr>\n",
       "    <tr>\n",
       "      <th>506687</th>\n",
       "      <td>4170236</td>\n",
       "      <td>0.709677</td>\n",
       "    </tr>\n",
       "    <tr>\n",
       "      <th>506688</th>\n",
       "      <td>4170237</td>\n",
       "      <td>0.741935</td>\n",
       "    </tr>\n",
       "    <tr>\n",
       "      <th>506689</th>\n",
       "      <td>4170238</td>\n",
       "      <td>0.774194</td>\n",
       "    </tr>\n",
       "    <tr>\n",
       "      <th>506690</th>\n",
       "      <td>4170239</td>\n",
       "      <td>0.827957</td>\n",
       "    </tr>\n",
       "  </tbody>\n",
       "</table>\n",
       "<p>506691 rows × 2 columns</p>\n",
       "</div>"
      ],
      "text/plain": [
       "        TransactionID   isFraud\n",
       "0             3663549  0.784946\n",
       "1             3663550  0.763441\n",
       "2             3663551  0.784946\n",
       "3             3663552  0.774194\n",
       "4             3663553  0.591398\n",
       "...               ...       ...\n",
       "506686        4170235  0.763441\n",
       "506687        4170236  0.709677\n",
       "506688        4170237  0.741935\n",
       "506689        4170238  0.774194\n",
       "506690        4170239  0.827957\n",
       "\n",
       "[506691 rows x 2 columns]"
      ]
     },
     "execution_count": 53,
     "metadata": {},
     "output_type": "execute_result"
    }
   ],
   "source": [
    "sample_dataset = pd.read_csv('data/sample_submission.csv')\n",
    "sample_dataset = sample_dataset.drop('isFraud', axis=1)\n",
    "sample_dataset['isFraud'] = y_pred_prob.copy()\n",
    "sample_dataset"
   ]
  },
  {
   "cell_type": "code",
   "execution_count": 54,
   "id": "04e104b0",
   "metadata": {},
   "outputs": [],
   "source": [
    "sample_dataset.to_csv('first submission.csv', index=False) "
   ]
  },
  {
   "cell_type": "code",
   "execution_count": null,
   "id": "312d2004",
   "metadata": {},
   "outputs": [],
   "source": []
  },
  {
   "cell_type": "code",
   "execution_count": null,
   "id": "cb99fc07",
   "metadata": {},
   "outputs": [],
   "source": []
  },
  {
   "cell_type": "code",
   "execution_count": null,
   "id": "bd651273",
   "metadata": {},
   "outputs": [],
   "source": []
  },
  {
   "cell_type": "code",
   "execution_count": null,
   "id": "3f6ba420",
   "metadata": {},
   "outputs": [],
   "source": []
  },
  {
   "cell_type": "code",
   "execution_count": null,
   "id": "a25bed98",
   "metadata": {},
   "outputs": [],
   "source": []
  },
  {
   "cell_type": "code",
   "execution_count": null,
   "id": "fbf048b0",
   "metadata": {},
   "outputs": [],
   "source": []
  },
  {
   "cell_type": "code",
   "execution_count": null,
   "id": "00612e4d",
   "metadata": {},
   "outputs": [],
   "source": []
  },
  {
   "cell_type": "code",
   "execution_count": null,
   "id": "24726d7e",
   "metadata": {},
   "outputs": [],
   "source": []
  },
  {
   "cell_type": "code",
   "execution_count": null,
   "id": "ae4ede11",
   "metadata": {},
   "outputs": [],
   "source": []
  },
  {
   "cell_type": "code",
   "execution_count": null,
   "id": "6e434f9d",
   "metadata": {},
   "outputs": [],
   "source": []
  },
  {
   "cell_type": "code",
   "execution_count": null,
   "id": "d10da4f4",
   "metadata": {},
   "outputs": [],
   "source": []
  },
  {
   "cell_type": "code",
   "execution_count": null,
   "id": "979d73ee",
   "metadata": {},
   "outputs": [],
   "source": []
  },
  {
   "cell_type": "code",
   "execution_count": null,
   "id": "d6e348d2",
   "metadata": {},
   "outputs": [],
   "source": []
  },
  {
   "cell_type": "code",
   "execution_count": null,
   "id": "aa141ded",
   "metadata": {},
   "outputs": [],
   "source": []
  },
  {
   "cell_type": "code",
   "execution_count": null,
   "id": "dfa3d76b",
   "metadata": {},
   "outputs": [],
   "source": []
  },
  {
   "cell_type": "code",
   "execution_count": null,
   "id": "d8917138",
   "metadata": {},
   "outputs": [],
   "source": []
  },
  {
   "cell_type": "code",
   "execution_count": null,
   "id": "eaaabf58",
   "metadata": {},
   "outputs": [],
   "source": []
  },
  {
   "cell_type": "code",
   "execution_count": null,
   "id": "8cca75f5",
   "metadata": {},
   "outputs": [],
   "source": [
    "# from sklearn.decomposition import PCA\n",
    "# pca = PCA().fit(x_train)"
   ]
  },
  {
   "cell_type": "code",
   "execution_count": null,
   "id": "83582d38",
   "metadata": {},
   "outputs": [],
   "source": [
    "# x_train.shape"
   ]
  },
  {
   "cell_type": "code",
   "execution_count": null,
   "id": "8f5a91a0",
   "metadata": {},
   "outputs": [],
   "source": [
    "# %matplotlib inline\n",
    "# import matplotlib.pyplot as plt\n",
    "# plt.rcParams[\"figure.figsize\"] = (60,6)\n",
    "\n",
    "# fig, ax = plt.subplots()\n",
    "# xi = np.arange(1, 212, step=1)\n",
    "# yi = np.cumsum(pca.explained_variance_ratio_)\n",
    "\n",
    "# plt.ylim(0.0,1.1)\n",
    "# plt.plot(xi, yi, marker='o', linestyle='--', color='b')\n",
    "\n",
    "# plt.xlabel('Number of Components')\n",
    "# plt.xticks(np.arange(0, 413, step=1)) #change from 0-based array index to 1-based human-readable label\n",
    "# plt.xticks(rotation=90)\n",
    "# plt.ylabel('Cumulative variance (%)')\n",
    "# plt.title('The number of components needed to explain variance for dataset 1')\n",
    "\n",
    "# plt.axhline(y=0.99, color='r', linestyle='-')\n",
    "# plt.text(0.7, 0.75, '99% cut-off threshold', color = 'red', fontsize=16)\n",
    "\n",
    "# ax.grid(axis='x')\n",
    "# plt.show()"
   ]
  },
  {
   "cell_type": "code",
   "execution_count": null,
   "id": "0948b7a4",
   "metadata": {},
   "outputs": [],
   "source": [
    "# model_pca = PCA(n_components=126)\n",
    "\n",
    "# pca_x_train = model_pca.fit_transform(x_train)\n",
    "# pca_x_val  = model_pca.transform(x_val)\n",
    "# pca_X_test  = model_pca.transform(X_test)"
   ]
  },
  {
   "cell_type": "code",
   "execution_count": null,
   "id": "65e54c9b",
   "metadata": {},
   "outputs": [],
   "source": [
    "# print(x_train.shape)\n",
    "# print(x_val.shape)\n",
    "# print(X_test.shape)"
   ]
  },
  {
   "cell_type": "code",
   "execution_count": null,
   "id": "98ed9b69",
   "metadata": {},
   "outputs": [],
   "source": [
    "# print(pca_x_train.shape)\n",
    "# print(pca_x_val.shape)\n",
    "# print(pca_X_test.shape)"
   ]
  },
  {
   "cell_type": "markdown",
   "id": "09112038",
   "metadata": {},
   "source": [
    "MLP With PCA"
   ]
  },
  {
   "cell_type": "code",
   "execution_count": null,
   "id": "ab3b86a6",
   "metadata": {},
   "outputs": [],
   "source": [
    "# import tensorflow as tf\n",
    "# from tensorflow import keras\n",
    "# from tensorflow.keras.models import Sequential\n",
    "# from tensorflow.keras.layers import Activation, Dense\n",
    "# from tensorflow.keras.optimizers import Adam\n",
    "# from tensorflow.keras.metrics import categorical_crossentropy"
   ]
  },
  {
   "cell_type": "code",
   "execution_count": null,
   "id": "789a4014",
   "metadata": {},
   "outputs": [],
   "source": [
    "# physical_devices = tf.config.experimental.list_physical_devices('GPU')\n",
    "# print(\"Num GPUs Available: \", len(physical_devices))\n",
    "# tf.config.experimental.set_memory_growth(physical_devices[0], True)"
   ]
  },
  {
   "cell_type": "code",
   "execution_count": null,
   "id": "e188af9d",
   "metadata": {},
   "outputs": [],
   "source": [
    "# model = Sequential([\n",
    "#     Dense(units=16, input_shape=(211,), activation='relu'),\n",
    "#     Dense(units=32, activation='relu'),\n",
    "#     Dense(units=16, activation='relu'),\n",
    "#     Dense(units=8, activation='relu'),\n",
    "#     Dense(units=2, activation='softmax')\n",
    "# ])"
   ]
  },
  {
   "cell_type": "code",
   "execution_count": null,
   "id": "e522e214",
   "metadata": {},
   "outputs": [],
   "source": [
    "# model.summary()"
   ]
  },
  {
   "cell_type": "code",
   "execution_count": null,
   "id": "82b51433",
   "metadata": {},
   "outputs": [],
   "source": [
    "# model.compile(optimizer=Adam(learning_rate=0.0001), loss='sparse_categorical_crossentropy', metrics=['accuracy'])"
   ]
  },
  {
   "cell_type": "code",
   "execution_count": null,
   "id": "79fe5b3a",
   "metadata": {},
   "outputs": [],
   "source": [
    "# model.fit(x=x_train, y=y_train, batch_size=10, epochs=15, verbose=2, validation_data=(x_val,y_val))"
   ]
  },
  {
   "cell_type": "code",
   "execution_count": null,
   "id": "ca1a29c3",
   "metadata": {},
   "outputs": [],
   "source": [
    "# predictions = model.predict(\n",
    "#       x=X_test\n",
    "#     , batch_size=10\n",
    "#     , verbose=0\n",
    "# )  "
   ]
  },
  {
   "cell_type": "code",
   "execution_count": null,
   "id": "dce25062",
   "metadata": {},
   "outputs": [],
   "source": [
    "# for i in predictions:\n",
    "#     print(i)"
   ]
  },
  {
   "cell_type": "code",
   "execution_count": null,
   "id": "26e02970",
   "metadata": {},
   "outputs": [],
   "source": []
  },
  {
   "cell_type": "code",
   "execution_count": null,
   "id": "e99fe4be",
   "metadata": {},
   "outputs": [],
   "source": []
  },
  {
   "cell_type": "code",
   "execution_count": null,
   "id": "0b2b9ad2",
   "metadata": {},
   "outputs": [],
   "source": []
  },
  {
   "cell_type": "markdown",
   "id": "ac60715c",
   "metadata": {},
   "source": [
    "RFC With PCA"
   ]
  },
  {
   "cell_type": "code",
   "execution_count": null,
   "id": "9a0a630a",
   "metadata": {},
   "outputs": [],
   "source": [
    "# from sklearn.ensemble import RandomForestClassifier\n",
    "# from sklearn import metrics\n",
    "# from sklearn.metrics import recall_score\n",
    "# from matplotlib import pyplot\n",
    "# from sklearn.metrics import recall_score\n",
    "# from sklearn.metrics import roc_curve\n",
    "# from sklearn.metrics import roc_auc_score\n",
    "\n",
    "# clf_rfc=RandomForestClassifier(n_estimators=93, random_state=143)\n",
    "# clf_rfc.fit(pca_x_train,y_train)\n",
    "# y_pred=clf_rfc.predict(pca_x_val)\n",
    "\n",
    "# print(\"RandomForest\")\n",
    "# print(\"____________________________\")\n",
    "# print(\"Accuracy:\",metrics.accuracy_score(y_val, y_pred))\n",
    "# print(\"Precision:\",metrics.precision_score(y_val, y_pred))\n",
    "# print(\"Recall:\",metrics.recall_score(y_val, y_pred))\n",
    "# print(\"F1 Score:\",metrics.f1_score(y_val, y_pred))\n",
    "# print(\"____________________________\")\n",
    "# print(\"Confusion Matrix: \\n\", metrics.confusion_matrix(y_val, y_pred))\n",
    "\n",
    "# tpr = recall_score(y_val, y_pred) \n",
    "# tnr = recall_score(y_val, y_pred, pos_label = 0) \n",
    "# fpr = 1 - tnr\n",
    "# fnr = 1 - tpr\n",
    "# print(\"____________________________\")\n",
    "# print(\"False Positive Rate:\",fpr)\n",
    "# print(\"False Negative Rate:\",fnr)\n",
    "\n",
    "# y_pred_prob = clf_rfc.predict_proba(pca_x_val)[:,1]\n",
    "\n",
    "# # Compute and print AUC score\n",
    "# print(\"____________________________\")\n",
    "# print(\"AUC: {}\".format(roc_auc_score(y_val, y_pred_prob)))\n",
    "\n",
    "# # Compute cross-validated AUC scores: cv_auc\n",
    "# #cv_auc = cross_val_score(logreg, X, y, cv=5, scoring='roc_auc')\n",
    "\n",
    "# # Print list of AUC scores\n",
    "# #print(\"AUC scores computed using 5-fold cross-validation: {}\".format(cv_auc))\n",
    "\n",
    "# # Generate ROC curve values: fpr, tpr, thresholds\n",
    "# fpr, tpr, thresholds = roc_curve(y_val, y_pred_prob)\n",
    "\n",
    "# # Plot ROC curve\n",
    "# pyplot.plot([0, 1], [0, 1], 'k--')\n",
    "# pyplot.plot(fpr, tpr)\n",
    "# pyplot.xlabel('False Positive Rate')\n",
    "# pyplot.ylabel('True Positive Rate')\n",
    "# pyplot.title('ROC Curve')\n",
    "# pyplot.show()"
   ]
  },
  {
   "cell_type": "code",
   "execution_count": null,
   "id": "424dbbfe",
   "metadata": {},
   "outputs": [],
   "source": [
    "# y_pred_prob = clf_rfc.predict_proba(pca_X_test)[:,1]"
   ]
  },
  {
   "cell_type": "code",
   "execution_count": null,
   "id": "59c2a1e5",
   "metadata": {},
   "outputs": [],
   "source": [
    "# sample_dataset = pd.read_csv('data/sample_submission.csv')\n",
    "# sample_dataset = sample_dataset.drop('isFraud', axis=1)\n",
    "# sample_dataset['isFraud'] = y_pred_prob.copy()\n",
    "# sample_dataset"
   ]
  },
  {
   "cell_type": "code",
   "execution_count": null,
   "id": "6097d494",
   "metadata": {},
   "outputs": [],
   "source": [
    "# sample_dataset.to_csv('first submission.csv', index=False) "
   ]
  },
  {
   "cell_type": "markdown",
   "id": "8b758625",
   "metadata": {},
   "source": [
    "RFC Without PCA"
   ]
  },
  {
   "cell_type": "code",
   "execution_count": null,
   "id": "54a91b50",
   "metadata": {},
   "outputs": [],
   "source": [
    "# from sklearn.ensemble import RandomForestClassifier\n",
    "# from sklearn import metrics\n",
    "# from sklearn.metrics import recall_score\n",
    "# from matplotlib import pyplot\n",
    "# from sklearn.metrics import recall_score\n",
    "# from sklearn.metrics import roc_curve\n",
    "# from sklearn.metrics import roc_auc_score\n",
    "\n",
    "# clf_rfc=RandomForestClassifier(n_estimators=93, random_state=143)\n",
    "# clf_rfc.fit(x_train,y_train)\n",
    "# y_pred=clf_rfc.predict(x_val)\n",
    "\n",
    "# print(\"RandomForest\")\n",
    "# print(\"____________________________\")\n",
    "# print(\"Accuracy:\",metrics.accuracy_score(y_val, y_pred))\n",
    "# print(\"Precision:\",metrics.precision_score(y_val, y_pred))\n",
    "# print(\"Recall:\",metrics.recall_score(y_val, y_pred))\n",
    "# print(\"F1 Score:\",metrics.f1_score(y_val, y_pred))\n",
    "# print(\"____________________________\")\n",
    "# print(\"Confusion Matrix: \\n\", metrics.confusion_matrix(y_val, y_pred))\n",
    "\n",
    "# tpr = recall_score(y_val, y_pred) \n",
    "# tnr = recall_score(y_val, y_pred, pos_label = 0) \n",
    "# fpr = 1 - tnr\n",
    "# fnr = 1 - tpr\n",
    "# print(\"____________________________\")\n",
    "# print(\"False Positive Rate:\",fpr)\n",
    "# print(\"False Negative Rate:\",fnr)\n",
    "\n",
    "# y_pred_prob = clf_rfc.predict_proba(x_val)[:,1]\n",
    "\n",
    "# # Compute and print AUC score\n",
    "# print(\"____________________________\")\n",
    "# print(\"AUC: {}\".format(roc_auc_score(y_val, y_pred_prob)))\n",
    "\n",
    "# # Compute cross-validated AUC scores: cv_auc\n",
    "# #cv_auc = cross_val_score(logreg, X, y, cv=5, scoring='roc_auc')\n",
    "\n",
    "# # Print list of AUC scores\n",
    "# #print(\"AUC scores computed using 5-fold cross-validation: {}\".format(cv_auc))\n",
    "\n",
    "# # Generate ROC curve values: fpr, tpr, thresholds\n",
    "# fpr, tpr, thresholds = roc_curve(y_val, y_pred_prob)\n",
    "\n",
    "# # Plot ROC curve\n",
    "# pyplot.plot([0, 1], [0, 1], 'k--')\n",
    "# pyplot.plot(fpr, tpr)\n",
    "# pyplot.xlabel('False Positive Rate')\n",
    "# pyplot.ylabel('True Positive Rate')\n",
    "# pyplot.title('ROC Curve')\n",
    "# pyplot.show()"
   ]
  },
  {
   "cell_type": "code",
   "execution_count": null,
   "id": "8fae5136",
   "metadata": {},
   "outputs": [],
   "source": [
    "# y_pred_prob = clf_rfc.predict_proba(X_test)[:,1]"
   ]
  },
  {
   "cell_type": "code",
   "execution_count": null,
   "id": "c7e820f1",
   "metadata": {},
   "outputs": [],
   "source": [
    "# sample_dataset = pd.read_csv('data/sample_submission.csv')\n",
    "# sample_dataset = sample_dataset.drop('isFraud', axis=1)\n",
    "# sample_dataset['isFraud'] = y_pred_prob.copy()\n",
    "# sample_dataset.tail(100)"
   ]
  },
  {
   "cell_type": "code",
   "execution_count": null,
   "id": "d5e4bf65",
   "metadata": {},
   "outputs": [],
   "source": [
    "# sample_dataset.to_csv('first submission.csv', index=False) "
   ]
  },
  {
   "cell_type": "code",
   "execution_count": null,
   "id": "2c0dab84",
   "metadata": {},
   "outputs": [],
   "source": []
  }
 ],
 "metadata": {
  "kernelspec": {
   "display_name": "Python 3",
   "language": "python",
   "name": "python3"
  },
  "language_info": {
   "codemirror_mode": {
    "name": "ipython",
    "version": 3
   },
   "file_extension": ".py",
   "mimetype": "text/x-python",
   "name": "python",
   "nbconvert_exporter": "python",
   "pygments_lexer": "ipython3",
   "version": "3.8.8"
  }
 },
 "nbformat": 4,
 "nbformat_minor": 5
}
