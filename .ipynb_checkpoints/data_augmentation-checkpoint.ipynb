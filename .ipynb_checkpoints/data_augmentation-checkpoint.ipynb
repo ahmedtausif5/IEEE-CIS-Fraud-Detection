{
 "cells": [
  {
   "cell_type": "code",
   "execution_count": 6,
   "id": "d1f7e91e",
   "metadata": {},
   "outputs": [],
   "source": [
    "import pandas as pd\n",
    "import numpy as np\n",
    "import os"
   ]
  },
  {
   "cell_type": "code",
   "execution_count": 7,
   "id": "65a229e7",
   "metadata": {},
   "outputs": [
    {
     "name": "stdout",
     "output_type": "stream",
     "text": [
      "C:\\Users\\ahmed\\Desktop\\IEEE-CIS-Fraud-Detection/data\n"
     ]
    }
   ],
   "source": [
    "from os import listdir\n",
    "from os.path import isfile, join\n",
    "\n",
    "loc = os.path.abspath(\"\")\n",
    "data_loc = f\"{loc}/data\"\n",
    "print(data_loc)"
   ]
  },
  {
   "cell_type": "code",
   "execution_count": 9,
   "id": "268b75bf",
   "metadata": {},
   "outputs": [
    {
     "name": "stdout",
     "output_type": "stream",
     "text": [
      "Wall time: 1.6 s\n"
     ]
    }
   ],
   "source": [
    "%%time\n",
    "train_id = pd.read_parquet(f\"{data_loc}/train_identity.parquet.gzip\")\n",
    "train_tr = pd.read_parquet(f\"{data_loc}/train_transaction.parquet.gzip\")\n",
    "test_id = pd.read_parquet(f\"{data_loc}/test_identity.parquet.gzip\")\n",
    "test_tr = pd.read_parquet(f\"{data_loc}/test_transaction.parquet.gzip\")"
   ]
  },
  {
   "cell_type": "code",
   "execution_count": null,
   "id": "90495b15",
   "metadata": {},
   "outputs": [],
   "source": []
  }
 ],
 "metadata": {
  "kernelspec": {
   "display_name": "Python 3",
   "language": "python",
   "name": "python3"
  },
  "language_info": {
   "codemirror_mode": {
    "name": "ipython",
    "version": 3
   },
   "file_extension": ".py",
   "mimetype": "text/x-python",
   "name": "python",
   "nbconvert_exporter": "python",
   "pygments_lexer": "ipython3",
   "version": "3.8.8"
  }
 },
 "nbformat": 4,
 "nbformat_minor": 5
}
